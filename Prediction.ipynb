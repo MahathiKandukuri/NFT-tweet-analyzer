{
 "cells": [
  {
   "cell_type": "code",
   "execution_count": 1,
   "id": "57003191",
   "metadata": {},
   "outputs": [],
   "source": [
    "import pandas as pd\n",
    "import numpy as np \n",
    "# NLP libraries\n",
    "import string \n",
    "import nltk \n",
    "from nltk.corpus import stopwords\n",
    "import re \n",
    "import pickle"
   ]
  },
  {
   "cell_type": "code",
   "execution_count": 2,
   "id": "d09cb8f3",
   "metadata": {},
   "outputs": [],
   "source": [
    "with open('model_pickle','rb') as file:\n",
    "    mp = pickle.load(file)"
   ]
  },
  {
   "cell_type": "code",
   "execution_count": 3,
   "id": "ac422c3a",
   "metadata": {},
   "outputs": [
    {
     "data": {
      "text/plain": [
       "(31089, 5)"
      ]
     },
     "execution_count": 3,
     "metadata": {},
     "output_type": "execute_result"
    }
   ],
   "source": [
    "#loading dataset\n",
    "df=pd.read_csv(\"test.csv\",encoding=\"utf-8\")\n",
    "df.shape"
   ]
  },
  {
   "cell_type": "code",
   "execution_count": 4,
   "id": "29e5cbef",
   "metadata": {},
   "outputs": [
    {
     "data": {
      "text/html": [
       "<div>\n",
       "<style scoped>\n",
       "    .dataframe tbody tr th:only-of-type {\n",
       "        vertical-align: middle;\n",
       "    }\n",
       "\n",
       "    .dataframe tbody tr th {\n",
       "        vertical-align: top;\n",
       "    }\n",
       "\n",
       "    .dataframe thead th {\n",
       "        text-align: right;\n",
       "    }\n",
       "</style>\n",
       "<table border=\"1\" class=\"dataframe\">\n",
       "  <thead>\n",
       "    <tr style=\"text-align: right;\">\n",
       "      <th></th>\n",
       "      <th>Unnamed: 0</th>\n",
       "      <th>id</th>\n",
       "      <th>tweet_text</th>\n",
       "      <th>tweet_created_at</th>\n",
       "      <th>tweet_intent</th>\n",
       "    </tr>\n",
       "  </thead>\n",
       "  <tbody>\n",
       "    <tr>\n",
       "      <th>0</th>\n",
       "      <td>96364</td>\n",
       "      <td>1212764</td>\n",
       "      <td>15% off ðŸ§™â€â™‚ï¸ #Wizardia NFTs - it's a ...</td>\n",
       "      <td>2022-08-06T16:56:35.000Z</td>\n",
       "      <td>NaN</td>\n",
       "    </tr>\n",
       "    <tr>\n",
       "      <th>1</th>\n",
       "      <td>96365</td>\n",
       "      <td>1212770</td>\n",
       "      <td>@asksabir007 @dao_lm Don't miss the chance to ...</td>\n",
       "      <td>2022-08-06T16:56:33.000Z</td>\n",
       "      <td>NaN</td>\n",
       "    </tr>\n",
       "    <tr>\n",
       "      <th>2</th>\n",
       "      <td>96366</td>\n",
       "      <td>1212773</td>\n",
       "      <td>This zesty faucet from @_bitcoiner is making m...</td>\n",
       "      <td>2022-08-06T16:56:33.000Z</td>\n",
       "      <td>NaN</td>\n",
       "    </tr>\n",
       "    <tr>\n",
       "      <th>3</th>\n",
       "      <td>96367</td>\n",
       "      <td>1212804</td>\n",
       "      <td>15% off ðŸ§™â€â™‚ï¸ #Wizardia NFTs - it's a ...</td>\n",
       "      <td>2022-08-06T16:56:23.000Z</td>\n",
       "      <td>NaN</td>\n",
       "    </tr>\n",
       "    <tr>\n",
       "      <th>4</th>\n",
       "      <td>96368</td>\n",
       "      <td>1212776</td>\n",
       "      <td>@Kavaboy_NFT @tanya_4d Message me, letâ€™s tal...</td>\n",
       "      <td>2022-08-06T16:56:32.000Z</td>\n",
       "      <td>NaN</td>\n",
       "    </tr>\n",
       "  </tbody>\n",
       "</table>\n",
       "</div>"
      ],
      "text/plain": [
       "   Unnamed: 0       id                                         tweet_text  \\\n",
       "0       96364  1212764  15% off ðŸ§™â€â™‚ï¸ #Wizardia NFTs - it's a ...   \n",
       "1       96365  1212770  @asksabir007 @dao_lm Don't miss the chance to ...   \n",
       "2       96366  1212773  This zesty faucet from @_bitcoiner is making m...   \n",
       "3       96367  1212804  15% off ðŸ§™â€â™‚ï¸ #Wizardia NFTs - it's a ...   \n",
       "4       96368  1212776  @Kavaboy_NFT @tanya_4d Message me, letâ€™s tal...   \n",
       "\n",
       "           tweet_created_at  tweet_intent  \n",
       "0  2022-08-06T16:56:35.000Z           NaN  \n",
       "1  2022-08-06T16:56:33.000Z           NaN  \n",
       "2  2022-08-06T16:56:33.000Z           NaN  \n",
       "3  2022-08-06T16:56:23.000Z           NaN  \n",
       "4  2022-08-06T16:56:32.000Z           NaN  "
      ]
     },
     "execution_count": 4,
     "metadata": {},
     "output_type": "execute_result"
    }
   ],
   "source": [
    "#first five rows\n",
    "df.head()"
   ]
  },
  {
   "cell_type": "code",
   "execution_count": 5,
   "id": "f5fb3b21",
   "metadata": {},
   "outputs": [
    {
     "name": "stdout",
     "output_type": "stream",
     "text": [
      "<class 'pandas.core.frame.DataFrame'>\n",
      "RangeIndex: 31089 entries, 0 to 31088\n",
      "Data columns (total 5 columns):\n",
      " #   Column            Non-Null Count  Dtype  \n",
      "---  ------            --------------  -----  \n",
      " 0   Unnamed: 0        31089 non-null  int64  \n",
      " 1   id                31089 non-null  int64  \n",
      " 2   tweet_text        31089 non-null  object \n",
      " 3   tweet_created_at  31089 non-null  object \n",
      " 4   tweet_intent      0 non-null      float64\n",
      "dtypes: float64(1), int64(2), object(2)\n",
      "memory usage: 1.2+ MB\n"
     ]
    }
   ],
   "source": [
    "#information about dataset - datattype, nul values\n",
    "df.info()"
   ]
  },
  {
   "cell_type": "code",
   "execution_count": 6,
   "id": "2df1e83a",
   "metadata": {},
   "outputs": [],
   "source": [
    "#data cleaning\n",
    "def clean_text(text):\n",
    "    '''Make text lowercase, remove text in square brackets,remove links,remove punctuation\n",
    "    and remove words containing numbers.'''\n",
    "    text = text.lower()\n",
    "    text = re.sub(r'(https|http)?:\\/\\/(\\w|\\.|\\/|\\?|\\=|\\&|\\%|\\-)*\\b', '', text)\n",
    "    text = re.sub(r'<.*?>|&([a-z0-9]+|#[0-9]{1,6}|#x[0-9a-f]{1,6});', '', text)\n",
    "    text = re.sub('\\[.*?\\]', '', text)\n",
    "    text = re.sub('<.*?¿>+', '', text)\n",
    "    text = re.sub('[%s]' % re.escape(string.punctuation), '', text)\n",
    "    text = re.sub('\\n', '', text)\n",
    "    text = re.sub('\\w*\\d\\w*', '', text)\n",
    "    text = re.sub('@$%€¤«»±•|¦†‡¬¨¢“”','',text)             \n",
    "    return text\n",
    "df['tweet_text'] = df['tweet_text'].apply(lambda x: clean_text(x))"
   ]
  },
  {
   "cell_type": "code",
   "execution_count": 7,
   "id": "5169cba5",
   "metadata": {},
   "outputs": [],
   "source": [
    "tokenizer = nltk.tokenize.RegexpTokenizer(r'\\w+')\n",
    "df['tweet_text'] = df['tweet_text'].apply(lambda x: tokenizer.tokenize(x))"
   ]
  },
  {
   "cell_type": "code",
   "execution_count": 8,
   "id": "e70b2da3",
   "metadata": {},
   "outputs": [],
   "source": [
    "def remove_stopwords(text):\n",
    "    \"\"\"\n",
    "    Removing stopwords belonging to english language\n",
    "    \n",
    "    \"\"\"\n",
    "    words = [w for w in text if w not in stopwords.words('english')]\n",
    "    return words\n",
    "\n",
    "df['tweet_text'] = df['tweet_text'].apply(lambda x : remove_stopwords(x))"
   ]
  },
  {
   "cell_type": "code",
   "execution_count": 9,
   "id": "bb106a80",
   "metadata": {},
   "outputs": [],
   "source": [
    "def combine_text(list_of_text):\n",
    "    '''Takes a list of text and combines them into one large chunk of text.'''\n",
    "    combined_text = ' '.join(list_of_text)\n",
    "    return combined_text\n",
    "df['tweet_text'] = df['tweet_text'].apply(lambda x : combine_text(x))"
   ]
  },
  {
   "cell_type": "code",
   "execution_count": 10,
   "id": "d448f03a",
   "metadata": {},
   "outputs": [],
   "source": [
    "a=mp.predict(df['tweet_text'])"
   ]
  },
  {
   "cell_type": "code",
   "execution_count": 11,
   "id": "c3c54f1f",
   "metadata": {},
   "outputs": [],
   "source": [
    "b = pd.Series(a)"
   ]
  },
  {
   "cell_type": "code",
   "execution_count": 12,
   "id": "01684688",
   "metadata": {},
   "outputs": [
    {
     "data": {
      "text/html": [
       "<div>\n",
       "<style scoped>\n",
       "    .dataframe tbody tr th:only-of-type {\n",
       "        vertical-align: middle;\n",
       "    }\n",
       "\n",
       "    .dataframe tbody tr th {\n",
       "        vertical-align: top;\n",
       "    }\n",
       "\n",
       "    .dataframe thead th {\n",
       "        text-align: right;\n",
       "    }\n",
       "</style>\n",
       "<table border=\"1\" class=\"dataframe\">\n",
       "  <thead>\n",
       "    <tr style=\"text-align: right;\">\n",
       "      <th></th>\n",
       "      <th>Unnamed: 0</th>\n",
       "      <th>id</th>\n",
       "      <th>tweet_text</th>\n",
       "      <th>tweet_created_at</th>\n",
       "      <th>tweet_intent</th>\n",
       "    </tr>\n",
       "  </thead>\n",
       "  <tbody>\n",
       "    <tr>\n",
       "      <th>0</th>\n",
       "      <td>96364</td>\n",
       "      <td>1212764</td>\n",
       "      <td>ðÿ â â ï wizardia nfts game magicfilled metave...</td>\n",
       "      <td>2022-08-06T16:56:35.000Z</td>\n",
       "      <td>Whitelist</td>\n",
       "    </tr>\n",
       "    <tr>\n",
       "      <th>1</th>\n",
       "      <td>96365</td>\n",
       "      <td>1212770</td>\n",
       "      <td>daolm dont miss chance win nft worth simple st...</td>\n",
       "      <td>2022-08-06T16:56:33.000Z</td>\n",
       "      <td>Whitelist</td>\n",
       "    </tr>\n",
       "    <tr>\n",
       "      <th>2</th>\n",
       "      <td>96366</td>\n",
       "      <td>1212773</td>\n",
       "      <td>zesty faucet bitcoiner making tweet claim free...</td>\n",
       "      <td>2022-08-06T16:56:33.000Z</td>\n",
       "      <td>Whitelist</td>\n",
       "    </tr>\n",
       "    <tr>\n",
       "      <th>3</th>\n",
       "      <td>96367</td>\n",
       "      <td>1212804</td>\n",
       "      <td>ðÿ â â ï wizardia nfts game magicfilled metave...</td>\n",
       "      <td>2022-08-06T16:56:23.000Z</td>\n",
       "      <td>Whitelist</td>\n",
       "    </tr>\n",
       "    <tr>\n",
       "      <th>4</th>\n",
       "      <td>96368</td>\n",
       "      <td>1212776</td>\n",
       "      <td>kavaboynft message letâ talk marketing project</td>\n",
       "      <td>2022-08-06T16:56:32.000Z</td>\n",
       "      <td>Appreciation</td>\n",
       "    </tr>\n",
       "  </tbody>\n",
       "</table>\n",
       "</div>"
      ],
      "text/plain": [
       "   Unnamed: 0       id                                         tweet_text  \\\n",
       "0       96364  1212764  ðÿ â â ï wizardia nfts game magicfilled metave...   \n",
       "1       96365  1212770  daolm dont miss chance win nft worth simple st...   \n",
       "2       96366  1212773  zesty faucet bitcoiner making tweet claim free...   \n",
       "3       96367  1212804  ðÿ â â ï wizardia nfts game magicfilled metave...   \n",
       "4       96368  1212776     kavaboynft message letâ talk marketing project   \n",
       "\n",
       "           tweet_created_at  tweet_intent  \n",
       "0  2022-08-06T16:56:35.000Z     Whitelist  \n",
       "1  2022-08-06T16:56:33.000Z     Whitelist  \n",
       "2  2022-08-06T16:56:33.000Z     Whitelist  \n",
       "3  2022-08-06T16:56:23.000Z     Whitelist  \n",
       "4  2022-08-06T16:56:32.000Z  Appreciation  "
      ]
     },
     "execution_count": 12,
     "metadata": {},
     "output_type": "execute_result"
    }
   ],
   "source": [
    "df['tweet_intent'] = b \n",
    "df.head()"
   ]
  },
  {
   "cell_type": "code",
   "execution_count": 13,
   "id": "31cbda66",
   "metadata": {},
   "outputs": [],
   "source": [
    "df.to_csv(\"samplesubmission.csv\", encoding = \"utf-8\")"
   ]
  }
 ],
 "metadata": {
  "kernelspec": {
   "display_name": "Python 3",
   "language": "python",
   "name": "python3"
  },
  "language_info": {
   "codemirror_mode": {
    "name": "ipython",
    "version": 3
   },
   "file_extension": ".py",
   "mimetype": "text/x-python",
   "name": "python",
   "nbconvert_exporter": "python",
   "pygments_lexer": "ipython3",
   "version": "3.8.8"
  }
 },
 "nbformat": 4,
 "nbformat_minor": 5
}
